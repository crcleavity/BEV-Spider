{
 "cells": [
  {
   "cell_type": "markdown",
   "metadata": {},
   "source": [
    "## 新能源汽车数据爬取\n",
    "\n",
    "本案例以新浪网新能源汽车分析数据为例，从新浪 http://db.auto.sina.com.cn 爬取车型列表、车型信息，为之后的可视化和情感分析建模做准备。"
   ]
  },
  {
   "cell_type": "code",
   "execution_count": 1,
   "metadata": {},
   "outputs": [],
   "source": [
    "import csv, json, re, requests, json, time\n",
    "import pandas as pd\n",
    "import re\n",
    "from bs4 import BeautifulSoup"
   ]
  },
  {
   "cell_type": "code",
   "execution_count": 2,
   "metadata": {},
   "outputs": [
    {
     "data": {
      "text/plain": [
       "['//db.auto.sina.com.cn/eb1.html',\n",
       " '//db.auto.sina.com.cn/eb4.html',\n",
       " '//db.auto.sina.com.cn/eb3.html',\n",
       " '//db.auto.sina.com.cn/eb8.html',\n",
       " '//db.auto.sina.com.cn/eb9.html',\n",
       " '//db.auto.sina.com.cn/eb13.html']"
      ]
     },
     "execution_count": 2,
     "metadata": {},
     "output_type": "execute_result"
    }
   ],
   "source": [
    "url = \"http://db.auto.sina.com.cn/estation/\"\n",
    "response = requests.get(url)\n",
    "response.encoding = 'utf-8' \n",
    "soup = BeautifulSoup(response.text, 'html.parser')\n",
    "brand_urls = [i['href'] for i in soup.select('.carlist .clearfix a')]\n",
    "brand_urls[:6]"
   ]
  },
  {
   "cell_type": "code",
   "execution_count": 3,
   "metadata": {},
   "outputs": [
    {
     "data": {
      "text/plain": [
       "['http://db.auto.sina.com.cn/eb1.html',\n",
       " 'http://db.auto.sina.com.cn/eb4.html',\n",
       " 'http://db.auto.sina.com.cn/eb3.html',\n",
       " 'http://db.auto.sina.com.cn/eb8.html',\n",
       " 'http://db.auto.sina.com.cn/eb9.html',\n",
       " 'http://db.auto.sina.com.cn/eb13.html']"
      ]
     },
     "execution_count": 3,
     "metadata": {},
     "output_type": "execute_result"
    }
   ],
   "source": [
    "brand_urls1 = []\n",
    "for i in brand_urls:\n",
    "    url = 'http:'+ str(i)\n",
    "    brand_urls1.append(url)\n",
    "brand_urls1[:6]"
   ]
  },
  {
   "cell_type": "code",
   "execution_count": 4,
   "metadata": {},
   "outputs": [
    {
     "data": {
      "text/plain": [
       "['//db.auto.sina.com.cn/3460/',\n",
       " '//db.auto.sina.com.cn/3002/',\n",
       " '//db.auto.sina.com.cn/3854/',\n",
       " '//db.auto.sina.com.cn/4117/',\n",
       " '//db.auto.sina.com.cn/3694/',\n",
       " '//db.auto.sina.com.cn/2702/']"
      ]
     },
     "execution_count": 4,
     "metadata": {},
     "output_type": "execute_result"
    }
   ],
   "source": [
    "brand_url = \"http://db.auto.sina.com.cn/eb1.html\"\n",
    "response = requests.get(brand_url)\n",
    "response.encoding = 'utf-8' \n",
    "soup = BeautifulSoup(response.text, 'html.parser')\n",
    "model_urls = [i['href'] for i in soup.select('.ul .li')]\n",
    "model_urls[:6]"
   ]
  },
  {
   "cell_type": "code",
   "execution_count": 5,
   "metadata": {},
   "outputs": [
    {
     "data": {
      "text/plain": [
       "['http://db.auto.sina.com.cn/3460/',\n",
       " 'http://db.auto.sina.com.cn/3002/',\n",
       " 'http://db.auto.sina.com.cn/3854/',\n",
       " 'http://db.auto.sina.com.cn/4117/',\n",
       " 'http://db.auto.sina.com.cn/3694/',\n",
       " 'http://db.auto.sina.com.cn/2702/']"
      ]
     },
     "execution_count": 5,
     "metadata": {},
     "output_type": "execute_result"
    }
   ],
   "source": [
    "model_urls1 = []\n",
    "for i in model_urls:\n",
    "    url = 'http:'+ str(i)\n",
    "    model_urls1.append(url)\n",
    "model_urls1[:6]"
   ]
  },
  {
   "cell_type": "code",
   "execution_count": 6,
   "metadata": {},
   "outputs": [],
   "source": [
    "def crawl_model_urls_by_brand_url(brand_url):\n",
    "    response = requests.get(brand_url)\n",
    "    response.encoding = 'utf-8' \n",
    "    soup = BeautifulSoup(response.text, 'html.parser')\n",
    "    model_urls = [i['href'] for i in soup.select('.ul .li')]\n",
    "    model_urls[:6]\n",
    "    model_urls1 = []\n",
    "    for i in model_urls:\n",
    "        url = 'http:'+ str(i)\n",
    "        model_urls1.append(url)\n",
    "    model_urls1[:6]\n",
    "\n",
    "    return pd.DataFrame({'model_urls' : model_urls1})"
   ]
  },
  {
   "cell_type": "code",
   "execution_count": 7,
   "metadata": {},
   "outputs": [
    {
     "data": {
      "text/html": [
       "<div>\n",
       "<style scoped>\n",
       "    .dataframe tbody tr th:only-of-type {\n",
       "        vertical-align: middle;\n",
       "    }\n",
       "\n",
       "    .dataframe tbody tr th {\n",
       "        vertical-align: top;\n",
       "    }\n",
       "\n",
       "    .dataframe thead th {\n",
       "        text-align: right;\n",
       "    }\n",
       "</style>\n",
       "<table border=\"1\" class=\"dataframe\">\n",
       "  <thead>\n",
       "    <tr style=\"text-align: right;\">\n",
       "      <th></th>\n",
       "      <th>model_urls</th>\n",
       "    </tr>\n",
       "  </thead>\n",
       "  <tbody>\n",
       "    <tr>\n",
       "      <td>0</td>\n",
       "      <td>http://db.auto.sina.com.cn/3460/</td>\n",
       "    </tr>\n",
       "    <tr>\n",
       "      <td>1</td>\n",
       "      <td>http://db.auto.sina.com.cn/3002/</td>\n",
       "    </tr>\n",
       "    <tr>\n",
       "      <td>2</td>\n",
       "      <td>http://db.auto.sina.com.cn/3854/</td>\n",
       "    </tr>\n",
       "    <tr>\n",
       "      <td>3</td>\n",
       "      <td>http://db.auto.sina.com.cn/4117/</td>\n",
       "    </tr>\n",
       "    <tr>\n",
       "      <td>4</td>\n",
       "      <td>http://db.auto.sina.com.cn/3694/</td>\n",
       "    </tr>\n",
       "    <tr>\n",
       "      <td>5</td>\n",
       "      <td>http://db.auto.sina.com.cn/2702/</td>\n",
       "    </tr>\n",
       "    <tr>\n",
       "      <td>6</td>\n",
       "      <td>http://db.auto.sina.com.cn/3456/</td>\n",
       "    </tr>\n",
       "    <tr>\n",
       "      <td>7</td>\n",
       "      <td>http://db.auto.sina.com.cn/2995/</td>\n",
       "    </tr>\n",
       "    <tr>\n",
       "      <td>8</td>\n",
       "      <td>http://db.auto.sina.com.cn/2999/</td>\n",
       "    </tr>\n",
       "    <tr>\n",
       "      <td>9</td>\n",
       "      <td>http://db.auto.sina.com.cn/3000/</td>\n",
       "    </tr>\n",
       "    <tr>\n",
       "      <td>10</td>\n",
       "      <td>http://db.auto.sina.com.cn/3296/</td>\n",
       "    </tr>\n",
       "    <tr>\n",
       "      <td>11</td>\n",
       "      <td>http://db.auto.sina.com.cn/3001/</td>\n",
       "    </tr>\n",
       "    <tr>\n",
       "      <td>12</td>\n",
       "      <td>http://db.auto.sina.com.cn/3632/</td>\n",
       "    </tr>\n",
       "  </tbody>\n",
       "</table>\n",
       "</div>"
      ],
      "text/plain": [
       "                          model_urls\n",
       "0   http://db.auto.sina.com.cn/3460/\n",
       "1   http://db.auto.sina.com.cn/3002/\n",
       "2   http://db.auto.sina.com.cn/3854/\n",
       "3   http://db.auto.sina.com.cn/4117/\n",
       "4   http://db.auto.sina.com.cn/3694/\n",
       "5   http://db.auto.sina.com.cn/2702/\n",
       "6   http://db.auto.sina.com.cn/3456/\n",
       "7   http://db.auto.sina.com.cn/2995/\n",
       "8   http://db.auto.sina.com.cn/2999/\n",
       "9   http://db.auto.sina.com.cn/3000/\n",
       "10  http://db.auto.sina.com.cn/3296/\n",
       "11  http://db.auto.sina.com.cn/3001/\n",
       "12  http://db.auto.sina.com.cn/3632/"
      ]
     },
     "execution_count": 7,
     "metadata": {},
     "output_type": "execute_result"
    }
   ],
   "source": [
    "brand_url = \"http://db.auto.sina.com.cn/eb1.html\"\n",
    "model_urls1 = crawl_model_urls_by_brand_url(brand_url)\n",
    "model_urls1"
   ]
  },
  {
   "cell_type": "code",
   "execution_count": 8,
   "metadata": {},
   "outputs": [],
   "source": [
    "for brand_url in brand_urls1:\n",
    "    model_urls = crawl_model_urls_by_brand_url(brand_url)\n",
    "    model_urls.to_csv('D:/data/e-auto/model_urls.csv', mode = 'a', header = False, index = False)"
   ]
  },
  {
   "cell_type": "markdown",
   "metadata": {},
   "source": [
    "启动网页CSS分析插件，选取相应的区域，得到不同信息的CSS路径为：\n",
    "\n",
    "* 纯电续航（endurance_km）：.xuhang .t1；\n",
    "* 慢充时间（slow_charge_hour）：.manchong .t1；\n",
    "* 快充时间（fast_charge_hour）：.kuaichong .t1；\n",
    "* 电池容量（capacity_kwh）：.dianchi .t1；\n",
    "* 最大功率（max_power）：.gonglv .t1；\n",
    "* 最大扭矩（max_torque）：.niuju .t1；\n",
    "* 月销量（monthly_sales）：.monthsales .num；\n",
    "* 年累计销量（yearly_sales）：.yearsales .num；\n",
    "* 月成交价（monthly_price）：.monthprice .num；\n",
    "* 用户评分（rating）：.star em；\n",
    "* 口碑数量（review_count）：.txtnum；\n",
    "* 厂商指导价格(guide_price) ： .strong。"
   ]
  },
  {
   "cell_type": "markdown",
   "metadata": {},
   "source": [
    "定义函数`crawl_model_profiles_by_model_url()`，通过传入的汽车页面URL（`model_url`），返回数据框，包含纯电续航（`endurance_km`）、慢充时间（`slow_charge_hour`）、快充时间（`fast_charge_hour`）、电池容量（`capacity_kwh`）、最大功率（`max_power`）、最大扭矩（`max_torque`）、月销量（`monthly_sales`）、年累计销量（`yearly_sales`）、月成交价（`monthly_price`）、用户评分（`rating`）、口碑数量（`review_count`）和厂商指导价格(`guide_price`)。"
   ]
  },
  {
   "cell_type": "code",
   "execution_count": 9,
   "metadata": {},
   "outputs": [],
   "source": [
    "def crawl_model_profiles_by_model_url(model_url):\n",
    "    response = requests.get(model_url)\n",
    "    response.encoding = 'utf-8' \n",
    "    soup = BeautifulSoup(response.text, 'html.parser')\n",
    "    brand= soup.select('.brandBtn a')[0].text\n",
    "    model=soup.select('.subBrandBtn a')[0].text\n",
    "    endurance_km = soup.select('.xuhang .t1')[0].text if soup.select('.xuhang .t1')[0].text != '暂无数据' else ''\n",
    "    slow_charge_hour = soup.select('.manchong .t1')[0].text if soup.select('.manchong .t1')[0].text != '暂无数据' else ''\n",
    "    fast_charge_hour =soup.select('.kuaichong .t1')[0].text if soup.select('.kuaichong .t1')[0].text != '暂无数据' else ''\n",
    "    capacity_kwh =soup.select('.dianchi .t1')[0].text if soup.select('.dianchi .t1')[0].text != '暂无数据' else ''\n",
    "    max_power_kw =soup.select('.gonglv .t1')[0].text if soup.select('.gonglv .t1')[0].text != '暂无数据' else ''\n",
    "    max_torque_nm =soup.select('.niuju .t1')[0].text if soup.select('.niuju .t1')[0].text != '暂无数据' else ''\n",
    "    try:\n",
    "        monthly_sales =soup.select('.monthsales .num')[0].text if len(soup.select('.monthsales .num')) > 0 else ''\n",
    "    except AttributeError:\n",
    "        monthly_sales = ''\n",
    "        #yearly_sales =soup.select('.yearsales .num')[0].text if len(soup.select('.yearsales .num')) > 0 else ''\n",
    "    try:\n",
    "        monthly_price =soup.select('.monthprice .num')[0].text if soup.select('.monthprice .num')[0].text != '暂无数据'else ''\n",
    "    except IndexError:\n",
    "        monthly_price ='' \n",
    "    yearly_sales =soup.select('.yearsales .num')[0].text if len(soup.select('.yearsales .num')) > 0 else ''\n",
    "    rating = soup.select('.star em')[0].text if soup.select('.star em')[0].text != '暂无' else ''\n",
    "    review_count = soup.select('.txtnum')[0].text if soup.select('.txtnum')[0].text != '0篇口碑' else ''\n",
    "    try:\n",
    "        guide_price = soup.select('li:nth-child(1) .strong')[0].text.replace('\\r', '').replace('\\n', '').replace('\\t','')\n",
    "    except IndexError:\n",
    "        guide_price =''\n",
    "    return pd.DataFrame({'brand':[brand],'model':[model],'endurance_km':[endurance_km],'slow_charge_hour':[slow_charge_hour],\n",
    "                         'fast_charge_hour':[fast_charge_hour],'capacity_kwh':[capacity_kwh],'max_power_kw':[max_power_kw],\n",
    "                         'max_torque_nm':[max_torque_nm],'monthly_sales':[monthly_sales],'yearly_sales':[yearly_sales],\n",
    "                         'monthly_price':[monthly_price],'rating':[rating],'review_count':[review_count],'guide_price':[guide_price]})"
   ]
  },
  {
   "cell_type": "markdown",
   "metadata": {},
   "source": [
    "测试该函数。"
   ]
  },
  {
   "cell_type": "code",
   "execution_count": 10,
   "metadata": {},
   "outputs": [
    {
     "data": {
      "text/html": [
       "<div>\n",
       "<style scoped>\n",
       "    .dataframe tbody tr th:only-of-type {\n",
       "        vertical-align: middle;\n",
       "    }\n",
       "\n",
       "    .dataframe tbody tr th {\n",
       "        vertical-align: top;\n",
       "    }\n",
       "\n",
       "    .dataframe thead th {\n",
       "        text-align: right;\n",
       "    }\n",
       "</style>\n",
       "<table border=\"1\" class=\"dataframe\">\n",
       "  <thead>\n",
       "    <tr style=\"text-align: right;\">\n",
       "      <th></th>\n",
       "      <th>brand</th>\n",
       "      <th>model</th>\n",
       "      <th>endurance_km</th>\n",
       "      <th>slow_charge_hour</th>\n",
       "      <th>fast_charge_hour</th>\n",
       "      <th>capacity_kwh</th>\n",
       "      <th>max_power_kw</th>\n",
       "      <th>max_torque_nm</th>\n",
       "      <th>monthly_sales</th>\n",
       "      <th>yearly_sales</th>\n",
       "      <th>monthly_price</th>\n",
       "      <th>rating</th>\n",
       "      <th>review_count</th>\n",
       "      <th>guide_price</th>\n",
       "    </tr>\n",
       "  </thead>\n",
       "  <tbody>\n",
       "    <tr>\n",
       "      <td>0</td>\n",
       "      <td>中华</td>\n",
       "      <td>中华H230 EV</td>\n",
       "      <td>150</td>\n",
       "      <td>3.5</td>\n",
       "      <td>1</td>\n",
       "      <td>24</td>\n",
       "      <td></td>\n",
       "      <td></td>\n",
       "      <td></td>\n",
       "      <td></td>\n",
       "      <td></td>\n",
       "      <td>2.5分</td>\n",
       "      <td>1篇口碑</td>\n",
       "      <td></td>\n",
       "    </tr>\n",
       "  </tbody>\n",
       "</table>\n",
       "</div>"
      ],
      "text/plain": [
       "  brand      model endurance_km slow_charge_hour fast_charge_hour  \\\n",
       "0    中华  中华H230 EV          150              3.5                1   \n",
       "\n",
       "  capacity_kwh max_power_kw max_torque_nm monthly_sales yearly_sales  \\\n",
       "0           24                                                         \n",
       "\n",
       "  monthly_price rating review_count guide_price  \n",
       "0                 2.5分         1篇口碑              "
      ]
     },
     "execution_count": 10,
     "metadata": {},
     "output_type": "execute_result"
    }
   ],
   "source": [
    "model_url =\"http://db.auto.sina.com.cn/3045/\"\n",
    "model_profile =crawl_model_profiles_by_model_url(model_url)\n",
    "model_profile"
   ]
  },
  {
   "cell_type": "code",
   "execution_count": 11,
   "metadata": {
    "scrolled": true
   },
   "outputs": [],
   "source": [
    "model_urls = pd.read_csv(\"D:/data/e-auto/model_urls.csv\", names = [\"city_url\"])\n",
    "for model_url in model_urls['city_url']:\n",
    "    model_profile = crawl_model_profiles_by_model_url(model_url)\n",
    "    model_profile.to_csv('D:/data/e-auto/model_profiles.csv', mode = 'a', header = False, index = False)"
   ]
  },
  {
   "cell_type": "code",
   "execution_count": 12,
   "metadata": {},
   "outputs": [
    {
     "data": {
      "text/html": [
       "<div>\n",
       "<style scoped>\n",
       "    .dataframe tbody tr th:only-of-type {\n",
       "        vertical-align: middle;\n",
       "    }\n",
       "\n",
       "    .dataframe tbody tr th {\n",
       "        vertical-align: top;\n",
       "    }\n",
       "\n",
       "    .dataframe thead th {\n",
       "        text-align: right;\n",
       "    }\n",
       "</style>\n",
       "<table border=\"1\" class=\"dataframe\">\n",
       "  <thead>\n",
       "    <tr style=\"text-align: right;\">\n",
       "      <th></th>\n",
       "      <th>city_url</th>\n",
       "    </tr>\n",
       "  </thead>\n",
       "  <tbody>\n",
       "    <tr>\n",
       "      <td>0</td>\n",
       "      <td>http://db.auto.sina.com.cn/3460/</td>\n",
       "    </tr>\n",
       "    <tr>\n",
       "      <td>1</td>\n",
       "      <td>http://db.auto.sina.com.cn/3002/</td>\n",
       "    </tr>\n",
       "    <tr>\n",
       "      <td>2</td>\n",
       "      <td>http://db.auto.sina.com.cn/3854/</td>\n",
       "    </tr>\n",
       "    <tr>\n",
       "      <td>3</td>\n",
       "      <td>http://db.auto.sina.com.cn/4117/</td>\n",
       "    </tr>\n",
       "    <tr>\n",
       "      <td>4</td>\n",
       "      <td>http://db.auto.sina.com.cn/3694/</td>\n",
       "    </tr>\n",
       "  </tbody>\n",
       "</table>\n",
       "</div>"
      ],
      "text/plain": [
       "                           city_url\n",
       "0  http://db.auto.sina.com.cn/3460/\n",
       "1  http://db.auto.sina.com.cn/3002/\n",
       "2  http://db.auto.sina.com.cn/3854/\n",
       "3  http://db.auto.sina.com.cn/4117/\n",
       "4  http://db.auto.sina.com.cn/3694/"
      ]
     },
     "execution_count": 12,
     "metadata": {},
     "output_type": "execute_result"
    }
   ],
   "source": [
    "model_urls = pd.read_csv(\"D:/data/e-auto/model_urls.csv\", names = [\"city_url\"])\n",
    "model_urls.head()"
   ]
  },
  {
   "cell_type": "code",
   "execution_count": 13,
   "metadata": {},
   "outputs": [
    {
     "data": {
      "text/html": [
       "<div>\n",
       "<style scoped>\n",
       "    .dataframe tbody tr th:only-of-type {\n",
       "        vertical-align: middle;\n",
       "    }\n",
       "\n",
       "    .dataframe tbody tr th {\n",
       "        vertical-align: top;\n",
       "    }\n",
       "\n",
       "    .dataframe thead th {\n",
       "        text-align: right;\n",
       "    }\n",
       "</style>\n",
       "<table border=\"1\" class=\"dataframe\">\n",
       "  <thead>\n",
       "    <tr style=\"text-align: right;\">\n",
       "      <th></th>\n",
       "      <th>model_url</th>\n",
       "      <th>brand</th>\n",
       "      <th>model</th>\n",
       "      <th>endurance_km</th>\n",
       "      <th>slow_charge_hour</th>\n",
       "      <th>fast_charge_hour</th>\n",
       "      <th>capacity_kwh</th>\n",
       "      <th>max_power_kw</th>\n",
       "      <th>max_torque_nm</th>\n",
       "      <th>monthly_sales</th>\n",
       "      <th>yearly_sales</th>\n",
       "      <th>monthly_price</th>\n",
       "      <th>rating</th>\n",
       "      <th>review_count</th>\n",
       "    </tr>\n",
       "  </thead>\n",
       "  <tbody>\n",
       "    <tr>\n",
       "      <td>0</td>\n",
       "      <td>奥迪</td>\n",
       "      <td>奥迪Q2L e-tron</td>\n",
       "      <td>265.0</td>\n",
       "      <td>17.0</td>\n",
       "      <td>0.6</td>\n",
       "      <td>39.7</td>\n",
       "      <td>NaN</td>\n",
       "      <td>NaN</td>\n",
       "      <td>NaN</td>\n",
       "      <td>NaN</td>\n",
       "      <td>NaN</td>\n",
       "      <td>3.0分</td>\n",
       "      <td>NaN</td>\n",
       "      <td>22.68-23.73万</td>\n",
       "    </tr>\n",
       "    <tr>\n",
       "      <td>1</td>\n",
       "      <td>奥迪</td>\n",
       "      <td>奥迪A6L混动</td>\n",
       "      <td>54.0</td>\n",
       "      <td>NaN</td>\n",
       "      <td>2.5</td>\n",
       "      <td>14.1</td>\n",
       "      <td>270.0</td>\n",
       "      <td>500.0</td>\n",
       "      <td>NaN</td>\n",
       "      <td>NaN</td>\n",
       "      <td>NaN</td>\n",
       "      <td>4.0分</td>\n",
       "      <td>1篇口碑</td>\n",
       "      <td>50.8万</td>\n",
       "    </tr>\n",
       "    <tr>\n",
       "      <td>2</td>\n",
       "      <td>奥迪</td>\n",
       "      <td>奥迪A7混动</td>\n",
       "      <td>NaN</td>\n",
       "      <td>NaN</td>\n",
       "      <td>NaN</td>\n",
       "      <td>NaN</td>\n",
       "      <td>NaN</td>\n",
       "      <td>NaN</td>\n",
       "      <td>NaN</td>\n",
       "      <td>NaN</td>\n",
       "      <td>NaN</td>\n",
       "      <td>3.0分</td>\n",
       "      <td>NaN</td>\n",
       "      <td>NaN</td>\n",
       "    </tr>\n",
       "    <tr>\n",
       "      <td>3</td>\n",
       "      <td>奥迪</td>\n",
       "      <td>A9 E-tron</td>\n",
       "      <td>NaN</td>\n",
       "      <td>NaN</td>\n",
       "      <td>NaN</td>\n",
       "      <td>NaN</td>\n",
       "      <td>NaN</td>\n",
       "      <td>NaN</td>\n",
       "      <td>NaN</td>\n",
       "      <td>NaN</td>\n",
       "      <td>NaN</td>\n",
       "      <td>3.0分</td>\n",
       "      <td>NaN</td>\n",
       "      <td>NaN</td>\n",
       "    </tr>\n",
       "    <tr>\n",
       "      <td>4</td>\n",
       "      <td>奥迪</td>\n",
       "      <td>AI:TRAIL quattro</td>\n",
       "      <td>NaN</td>\n",
       "      <td>NaN</td>\n",
       "      <td>NaN</td>\n",
       "      <td>NaN</td>\n",
       "      <td>NaN</td>\n",
       "      <td>NaN</td>\n",
       "      <td>NaN</td>\n",
       "      <td>NaN</td>\n",
       "      <td>NaN</td>\n",
       "      <td>3.0分</td>\n",
       "      <td>NaN</td>\n",
       "      <td>NaN</td>\n",
       "    </tr>\n",
       "  </tbody>\n",
       "</table>\n",
       "</div>"
      ],
      "text/plain": [
       "  model_url             brand  model  endurance_km  slow_charge_hour  \\\n",
       "0        奥迪      奥迪Q2L e-tron  265.0          17.0               0.6   \n",
       "1        奥迪           奥迪A6L混动   54.0           NaN               2.5   \n",
       "2        奥迪            奥迪A7混动    NaN           NaN               NaN   \n",
       "3        奥迪         A9 E-tron    NaN           NaN               NaN   \n",
       "4        奥迪  AI:TRAIL quattro    NaN           NaN               NaN   \n",
       "\n",
       "   fast_charge_hour  capacity_kwh  max_power_kw  max_torque_nm  monthly_sales  \\\n",
       "0              39.7           NaN           NaN            NaN            NaN   \n",
       "1              14.1         270.0         500.0            NaN            NaN   \n",
       "2               NaN           NaN           NaN            NaN            NaN   \n",
       "3               NaN           NaN           NaN            NaN            NaN   \n",
       "4               NaN           NaN           NaN            NaN            NaN   \n",
       "\n",
       "  yearly_sales monthly_price rating  review_count  \n",
       "0          NaN          3.0分    NaN  22.68-23.73万  \n",
       "1          NaN          4.0分   1篇口碑         50.8万  \n",
       "2          NaN          3.0分    NaN           NaN  \n",
       "3          NaN          3.0分    NaN           NaN  \n",
       "4          NaN          3.0分    NaN           NaN  "
      ]
     },
     "execution_count": 13,
     "metadata": {},
     "output_type": "execute_result"
    }
   ],
   "source": [
    "model_profiles = pd.read_csv(\"D:/data/e-auto/model_profiles.csv\", names = [\"model_url\", \"brand\", \"model\", \"endurance_km\", \"slow_charge_hour\", \n",
    "        \"fast_charge_hour\", \"capacity_kwh\", \"max_power_kw\", \"max_torque_nm\", \n",
    "        \"monthly_sales\", \"yearly_sales\", \"monthly_price\", \"rating\", \"review_count\"])\n",
    "model_profiles.head()"
   ]
  }
 ],
 "metadata": {
  "kernelspec": {
   "display_name": "Python 3",
   "language": "python",
   "name": "python3"
  },
  "language_info": {
   "codemirror_mode": {
    "name": "ipython",
    "version": 3
   },
   "file_extension": ".py",
   "mimetype": "text/x-python",
   "name": "python",
   "nbconvert_exporter": "python",
   "pygments_lexer": "ipython3",
   "version": "3.7.4"
  }
 },
 "nbformat": 4,
 "nbformat_minor": 2
}